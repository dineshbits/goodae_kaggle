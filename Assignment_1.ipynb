{
  "nbformat": 4,
  "nbformat_minor": 0,
  "metadata": {
    "anaconda-cloud": {},
    "colab": {
      "name": "Assignment-1.ipynb",
      "provenance": [],
      "collapsed_sections": [],
      "include_colab_link": true
    },
    "kernelspec": {
      "display_name": "Python 3 (ipykernel)",
      "language": "python",
      "name": "python3"
    },
    "language_info": {
      "codemirror_mode": {
        "name": "ipython",
        "version": 3
      },
      "file_extension": ".py",
      "mimetype": "text/x-python",
      "name": "python",
      "nbconvert_exporter": "python",
      "pygments_lexer": "ipython3",
      "version": "3.9.7"
    }
  },
  "cells": [
    {
      "cell_type": "markdown",
      "metadata": {
        "id": "view-in-github",
        "colab_type": "text"
      },
      "source": [
        "<a href=\"https://colab.research.google.com/github/dineshbits/goodae_kaggle/blob/master/Assignment_1.ipynb\" target=\"_parent\"><img src=\"https://colab.research.google.com/assets/colab-badge.svg\" alt=\"Open In Colab\"/></a>"
      ]
    },
    {
      "cell_type": "markdown",
      "metadata": {
        "id": "J0BQyBwNnDRi"
      },
      "source": [
        "<img src = \"https://www.bits-pilani.ac.in/Uploads/Campus/BITS_university_logo.gif\">"
      ]
    },
    {
      "cell_type": "markdown",
      "metadata": {
        "id": "wOCvWHupnDSZ"
      },
      "source": [
        "<h2><center>Assignment 1 [Weightage 10%]</center></h2>"
      ]
    },
    {
      "cell_type": "markdown",
      "metadata": {
        "id": "sp26I5vbnDSm"
      },
      "source": [
        "<ol>\n",
        "  <li>Do not change the name of the data file that is shared with the problem statement.</li>\n",
        "  <li>If intermediate data files are created, retain in the present working directory and attach them during submission.</li>\n",
        "  <li>Retain the data file in the same directory as that of this workbook.</li>\n",
        "  <li>Retain the Visualizations that is produced in the file. Don't clear them away.</li>\n",
        "  <li>Follow instructions from live sessions to convert the .ipynb notebook file to html</li>\n",
        "  <li>Submit only the .html file. Intermediate files to be attached as mentioned in (2).</li>\n",
        "  <li>All the visuals should adhere to the visualization principles learnt in the Course and must be presentation ready. Most effective visuals would fetch maximum  credits</li>\n",
        "  <li>Submissions done via means other than CANAVAS will strictly be NOT graded.</li>\n",
        "</ol>"
      ]
    },
    {
      "cell_type": "markdown",
      "metadata": {
        "id": "SpP42_ZgnDTN"
      },
      "source": [
        "##  Download and Prep the Data: 1 Marks"
      ]
    },
    {
      "cell_type": "markdown",
      "metadata": {
        "id": "UVZP7GmMnDTV"
      },
      "source": [
        "<h4>Import the libraries needed</h4>"
      ]
    },
    {
      "cell_type": "code",
      "metadata": {
        "id": "ru_e-YoynDTc"
      },
      "source": [
        ""
      ],
      "execution_count": null,
      "outputs": []
    },
    {
      "cell_type": "markdown",
      "metadata": {
        "id": "l9k16HmSnDTj"
      },
      "source": [
        "<h4> Load data and store in dataframe </h4>"
      ]
    },
    {
      "cell_type": "code",
      "metadata": {
        "id": "9nF2OKprnDTn",
        "scrolled": true
      },
      "source": [
        ""
      ],
      "execution_count": null,
      "outputs": []
    },
    {
      "cell_type": "markdown",
      "metadata": {
        "id": "nsdRMXMZnDTq"
      },
      "source": [
        "<h4>Find out  what type of variable you are dealing with. This will help you find the right visualization method for that variable.</p>\n"
      ]
    },
    {
      "cell_type": "code",
      "metadata": {
        "id": "nOd1XdJEnDTt"
      },
      "source": [
        ""
      ],
      "execution_count": null,
      "outputs": []
    },
    {
      "cell_type": "markdown",
      "metadata": {
        "id": "hlS_gWSWnDTv"
      },
      "source": [
        "# Visualisation Questions - 1.5 X 5 = 7.5 Marks"
      ]
    },
    {
      "cell_type": "markdown",
      "metadata": {
        "id": "ratiPWMcnDTx"
      },
      "source": [
        "### Question 1\n",
        "<h4>Fill the missing value for the continous variables with Mean(average) for proper data visualization\n",
        "<br><br>\n",
        "    Preprocess height - convert data in  format xx'xx to xx.xx Remove \"nan\" with Mode and convert the column to numerical\n",
        "<br><br>    \n",
        "    Preprocess weight - convert data in  format xxlbs to xx Remove \"nan\" with Mode and convert the column to numerical\n",
        "<h4>Do Univariate anlaysis for outliers detection for height and weight\n",
        "<br><br>\n",
        "<h4>Write the python code in the below cell to create appropriate visual to perform the above task.\n",
        "<h4> Answer in markdown cells below the visual\n",
        "<br><br>\n",
        "<ol>\n",
        "    <li>Summarise your findings from the visual</li>\n",
        "    <li>The reason for selecting the chart type you did</li>\n",
        "    <li>Mention the pre-attentive attributes used.(atleast 2)</li>\n",
        "    <li>Mention the gestalt principles used.(atleast 2)</li>\n",
        "</ol>"
      ]
    },
    {
      "cell_type": "code",
      "metadata": {
        "id": "y_HuRfLdnDT1"
      },
      "source": [
        ""
      ],
      "execution_count": null,
      "outputs": []
    },
    {
      "cell_type": "markdown",
      "metadata": {
        "id": "diRYcB0ZnDT9"
      },
      "source": [
        "### Question 2\n",
        "<h4>Do Bi-Variate anlaysis for outliers detection for height and weight \n",
        "<br><br>\n",
        "<h4>Write the python code in the below cell to create appropriate visual to perform the above task.\n",
        "<h4> Answer in markdown cells below the visual\n",
        "<br><br>\n",
        "<ol>\n",
        "    <li>Summarise your findings from the visual</li>\n",
        "    <li>The reason for selecting the chart type you did</li>\n",
        "    <li>Mention the pre-attentive attributes used.(atleast 2)</li>\n",
        "    <li>Mention the gestalt principles used.(atleast 2)</li>\n",
        "</ol>"
      ]
    },
    {
      "cell_type": "code",
      "metadata": {
        "id": "Rs2QzLvdnDT-"
      },
      "source": [
        ""
      ],
      "execution_count": null,
      "outputs": []
    },
    {
      "cell_type": "markdown",
      "metadata": {
        "id": "qQkg7ciNnDT_"
      },
      "source": [
        "### Question 3\n",
        "<h4>What kind of co-relation exists between Age and Overall\n",
        "<br><br>    \n",
        "Write the python code in the below cell to create appropriate visual to perform the above task.\n",
        "<h4> Answer in markdown cells below the visual\n",
        "<br><br>\n",
        "<ol>\n",
        "    <li>Summarise your findings from the visual</li>\n",
        "    <li>The reason for selecting the chart type you did</li>\n",
        "    <li>Mention the pre-attentive attributes used.(atleast 2)</li>\n",
        "    <li>Mention the gestalt principles used.(atleast 2)</li>\n",
        "</ol>"
      ]
    },
    {
      "cell_type": "code",
      "metadata": {
        "id": "nExKkhfZnDUB"
      },
      "source": [
        ""
      ],
      "execution_count": null,
      "outputs": []
    },
    {
      "cell_type": "markdown",
      "metadata": {
        "id": "DeuNFfRpnDUD"
      },
      "source": [
        "  ### Question 4\n",
        "<h4>What kind of relation exists between Age and (potential vs Overall). Create an appropriate visual to compare potential vs Overall with respect to age in one single visual.\n",
        "<br><br>\n",
        "Write the python code in the below cell to create appropriate visual to perform the above task.\n",
        "<h4> Answer in markdown cells below the visual\n",
        "<br><br>\n",
        "<ol>\n",
        "    <li>Summarise your findings from the visual</li>\n",
        "    <li>The reason for selecting the chart type you did</li>\n",
        "    <li>Mention the pre-attentive attributes used.(atleast 2)</li>\n",
        "    <li>Mention the gestalt principles used.(atleast 2)</li>\n",
        "</ol>"
      ]
    },
    {
      "cell_type": "code",
      "metadata": {
        "id": "U2HspEG6nDUE"
      },
      "source": [
        ""
      ],
      "execution_count": null,
      "outputs": []
    },
    {
      "cell_type": "markdown",
      "metadata": {
        "id": "lF9Sdb7ynDUG"
      },
      "source": [
        "  ### Question 5\n",
        "<h4>What kind of relation exists between Player Vision and Player Value. Create an appropriate visual to show any kind of relation that exists between Vision and Value of the player in one single visual.\n",
        "<br><br>\n",
        "Write the python code in the below cell to create appropriate visual to perform the above task.\n",
        "<h4> Answer in markdown cells below the visual\n",
        "<br><br>\n",
        "<ol>\n",
        "    <li>Summarise your findings from the visual</li>\n",
        "    <li>The reason for selecting the chart type you did</li>\n",
        "    <li>Mention the pre-attentive attributes used.(atleast 2)</li>\n",
        "    <li>Mention the gestalt principles used.(atleast 2)</li>\n",
        "</ol>"
      ]
    },
    {
      "cell_type": "markdown",
      "metadata": {
        "id": "ciXnXIuGoCKE"
      },
      "source": [
        "# Group's choice- 1.5 Marks\n",
        " \n",
        "#### Frame 1 (more) question which will help in the EDA(Exploratory Data Analysis) of the given data set and answer the same using the best visual.\n",
        " \n",
        " 1. Write the question in a markdown cell\n",
        " 2. Below the question,in a coding cell,write the python code to create the visual to answer the question  \n",
        "\n",
        "<h4> Answer in markdown cells below the visual <br><br>\n",
        "   1.Summarise your findings from the visual.<br>\n",
        "   2.The reason for selecting the chart type you did <br>\n",
        "   3.Mention the pre-attentive attributes used.(atleast 2)<br>\n",
        "   4.Mention the gestalt principles used.(atleast 2)<br>"
      ]
    },
    {
      "cell_type": "code",
      "metadata": {
        "colab": {
          "base_uri": "https://localhost:8080/"
        },
        "id": "RhzvYzb0nDUI",
        "outputId": "5827c5fe-5413-4f9a-b059-4ac60a228f03"
      },
      "source": [
        "%ls "
      ],
      "execution_count": null,
      "outputs": [
        {
          "name": "stdout",
          "output_type": "stream",
          "text": [
            "\u001b[0m\u001b[01;34msample_data\u001b[0m/\n"
          ]
        }
      ]
    },
    {
      "cell_type": "code",
      "metadata": {
        "colab": {
          "base_uri": "https://localhost:8080/"
        },
        "id": "aUp3rsXOzeQc",
        "outputId": "ceecdab5-e6e0-48b8-aea5-af6c877468bf"
      },
      "source": [
        "from google.colab import drive\n",
        "drive.mount('/content/drive')"
      ],
      "execution_count": null,
      "outputs": [
        {
          "name": "stdout",
          "output_type": "stream",
          "text": [
            "Mounted at /content/drive\n"
          ]
        }
      ]
    },
    {
      "cell_type": "markdown",
      "metadata": {
        "id": "Dy22QpOZnDUK"
      },
      "source": [
        "<h1><center> ************ Prepare File for Submission ****************</center></h1>"
      ]
    },
    {
      "cell_type": "markdown",
      "metadata": {
        "id": "5xVGhlH604_R"
      },
      "source": [
        "<h4> Follow the instructions from live session to convert the ipynb file to html file for submission.\n",
        "<br><br>\n",
        "<h4> Mount G-drive and copy the path to .ipynb file. Replace \"PATH_TO_NOTEBOOK.ibynb\" with the copied path and execute the below cells\n",
        "<br><br>\n",
        "<h4> Download the html file. Review all visuals and code written are present and upload it for evaluation"
      ]
    },
    {
      "cell_type": "code",
      "metadata": {
        "id": "m0XJBqbK0lOM"
      },
      "source": [
        "%cd \"PATH_TO_NOTEBOOK.ibynb\"\n",
        "!jupyter nbconvert --to html Assignment-1.ipynb"
      ],
      "execution_count": null,
      "outputs": []
    },
    {
      "cell_type": "code",
      "metadata": {
        "id": "gfxok5-GzzVW"
      },
      "source": [
        ""
      ],
      "execution_count": null,
      "outputs": []
    }
  ]
}