{
  "nbformat": 4,
  "nbformat_minor": 0,
  "metadata": {
    "anaconda-cloud": {},
    "colab": {
      "name": "Assignment-1.ipynb",
      "provenance": [],
      "collapsed_sections": [],
      "include_colab_link": true
    },
    "kernelspec": {
      "display_name": "Python 3 (ipykernel)",
      "language": "python",
      "name": "python3"
    },
    "language_info": {
      "codemirror_mode": {
        "name": "ipython",
        "version": 3
      },
      "file_extension": ".py",
      "mimetype": "text/x-python",
      "name": "python",
      "nbconvert_exporter": "python",
      "pygments_lexer": "ipython3",
      "version": "3.9.7"
    }
  },
  "cells": [
    {
      "cell_type": "markdown",
      "metadata": {
        "id": "view-in-github",
        "colab_type": "text"
      },
      "source": [
        "<a href=\"https://colab.research.google.com/github/dineshbits/goodae_kaggle/blob/master/Assignment_1.ipynb\" target=\"_parent\"><img src=\"https://colab.research.google.com/assets/colab-badge.svg\" alt=\"Open In Colab\"/></a>"
      ]
    },
    {
      "cell_type": "markdown",
      "metadata": {
        "id": "J0BQyBwNnDRi"
      },
      "source": [
        "<img src = \"https://www.bits-pilani.ac.in/Uploads/Campus/BITS_university_logo.gif\">"
      ]
    },
    {
      "cell_type": "markdown",
      "metadata": {
        "id": "wOCvWHupnDSZ"
      },
      "source": [
        "<h2><center>Assignment 1 [Weightage 10%]</center></h2>"
      ]
    },
    {
      "cell_type": "markdown",
      "metadata": {
        "id": "sp26I5vbnDSm"
      },
      "source": [
        "<ol>\n",
        "  <li>Do not change the name of the data file that is shared with the problem statement.</li>\n",
        "  <li>If intermediate data files are created, retain in the present working directory and attach them during submission.</li>\n",
        "  <li>Retain the data file in the same directory as that of this workbook.</li>\n",
        "  <li>Retain the Visualizations that is produced in the file. Don't clear them away.</li>\n",
        "  <li>Follow instructions from live sessions to convert the .ipynb notebook file to html</li>\n",
        "  <li>Submit only the .html file. Intermediate files to be attached as mentioned in (2).</li>\n",
        "  <li>All the visuals should adhere to the visualization principles learnt in the Course and must be presentation ready. Most effective visuals would fetch maximum  credits</li>\n",
        "  <li>Submissions done via means other than CANAVAS will strictly be NOT graded.</li>\n",
        "</ol>"
      ]
    },
    {
      "cell_type": "markdown",
      "metadata": {
        "id": "SpP42_ZgnDTN"
      },
      "source": [
        "##  Download and Prep the Data: 1 Marks"
      ]
    },
    {
      "cell_type": "markdown",
      "metadata": {
        "id": "UVZP7GmMnDTV"
      },
      "source": [
        "<h4>Import the libraries needed</h4>"
      ]
    },
    {
      "cell_type": "code",
      "metadata": {
        "id": "ru_e-YoynDTc"
      },
      "source": [
        "import pandas as pd\n",
        "import numpy as np\n",
        "import seaborn as sns\n",
        "import matplotlib.pyplot as plt\n",
        "from google.colab import drive"
      ],
      "execution_count": 6,
      "outputs": []
    },
    {
      "cell_type": "markdown",
      "metadata": {
        "id": "l9k16HmSnDTj"
      },
      "source": [
        "<h4> Load data and store in dataframe </h4>"
      ]
    },
    {
      "cell_type": "code",
      "metadata": {
        "id": "sXy8G-QhoVsh"
      },
      "source": [
        "drive.mount('/content/drive')"
      ],
      "execution_count": null,
      "outputs": []
    },
    {
      "cell_type": "code",
      "metadata": {
        "id": "9nF2OKprnDTn",
        "scrolled": true,
        "colab": {
          "base_uri": "https://localhost:8080/",
          "height": 338
        },
        "outputId": "a3a4115a-de84-427c-8196-9326e99de9b5"
      },
      "source": [
        "df=pd.read_csv(\"/content/drive/MyDrive/DataViz_Assignment1/data.csv\")\n",
        "df.describe()"
      ],
      "execution_count": 15,
      "outputs": [
        {
          "output_type": "execute_result",
          "data": {
            "text/html": [
              "<div>\n",
              "<style scoped>\n",
              "    .dataframe tbody tr th:only-of-type {\n",
              "        vertical-align: middle;\n",
              "    }\n",
              "\n",
              "    .dataframe tbody tr th {\n",
              "        vertical-align: top;\n",
              "    }\n",
              "\n",
              "    .dataframe thead th {\n",
              "        text-align: right;\n",
              "    }\n",
              "</style>\n",
              "<table border=\"1\" class=\"dataframe\">\n",
              "  <thead>\n",
              "    <tr style=\"text-align: right;\">\n",
              "      <th></th>\n",
              "      <th>Unnamed: 0</th>\n",
              "      <th>ID</th>\n",
              "      <th>Age</th>\n",
              "      <th>Overall</th>\n",
              "      <th>Potential</th>\n",
              "      <th>Special</th>\n",
              "      <th>International Reputation</th>\n",
              "      <th>Weak Foot</th>\n",
              "      <th>Skill Moves</th>\n",
              "      <th>Jersey Number</th>\n",
              "      <th>Crossing</th>\n",
              "      <th>Finishing</th>\n",
              "      <th>HeadingAccuracy</th>\n",
              "      <th>ShortPassing</th>\n",
              "      <th>Volleys</th>\n",
              "      <th>Dribbling</th>\n",
              "      <th>Curve</th>\n",
              "      <th>FKAccuracy</th>\n",
              "      <th>LongPassing</th>\n",
              "      <th>BallControl</th>\n",
              "      <th>Acceleration</th>\n",
              "      <th>SprintSpeed</th>\n",
              "      <th>Agility</th>\n",
              "      <th>Reactions</th>\n",
              "      <th>Balance</th>\n",
              "      <th>ShotPower</th>\n",
              "      <th>Jumping</th>\n",
              "      <th>Stamina</th>\n",
              "      <th>Strength</th>\n",
              "      <th>LongShots</th>\n",
              "      <th>Aggression</th>\n",
              "      <th>Interceptions</th>\n",
              "      <th>Positioning</th>\n",
              "      <th>Vision</th>\n",
              "      <th>Penalties</th>\n",
              "      <th>Composure</th>\n",
              "      <th>Marking</th>\n",
              "      <th>StandingTackle</th>\n",
              "      <th>SlidingTackle</th>\n",
              "      <th>GKDiving</th>\n",
              "      <th>GKHandling</th>\n",
              "      <th>GKKicking</th>\n",
              "      <th>GKPositioning</th>\n",
              "      <th>GKReflexes</th>\n",
              "    </tr>\n",
              "  </thead>\n",
              "  <tbody>\n",
              "    <tr>\n",
              "      <th>count</th>\n",
              "      <td>18207.000000</td>\n",
              "      <td>18207.000000</td>\n",
              "      <td>18207.000000</td>\n",
              "      <td>18207.000000</td>\n",
              "      <td>18207.000000</td>\n",
              "      <td>18207.000000</td>\n",
              "      <td>18159.000000</td>\n",
              "      <td>18159.000000</td>\n",
              "      <td>18159.000000</td>\n",
              "      <td>18147.000000</td>\n",
              "      <td>18159.000000</td>\n",
              "      <td>18159.000000</td>\n",
              "      <td>18159.000000</td>\n",
              "      <td>18159.000000</td>\n",
              "      <td>18159.000000</td>\n",
              "      <td>18159.000000</td>\n",
              "      <td>18159.000000</td>\n",
              "      <td>18159.000000</td>\n",
              "      <td>18159.000000</td>\n",
              "      <td>18159.000000</td>\n",
              "      <td>18159.000000</td>\n",
              "      <td>18159.000000</td>\n",
              "      <td>18159.000000</td>\n",
              "      <td>18159.000000</td>\n",
              "      <td>18159.000000</td>\n",
              "      <td>18159.000000</td>\n",
              "      <td>18159.000000</td>\n",
              "      <td>18159.000000</td>\n",
              "      <td>18159.000000</td>\n",
              "      <td>18159.000000</td>\n",
              "      <td>18159.000000</td>\n",
              "      <td>18159.000000</td>\n",
              "      <td>18159.000000</td>\n",
              "      <td>18159.000000</td>\n",
              "      <td>18159.000000</td>\n",
              "      <td>18159.000000</td>\n",
              "      <td>18159.000000</td>\n",
              "      <td>18159.000000</td>\n",
              "      <td>18159.000000</td>\n",
              "      <td>18159.000000</td>\n",
              "      <td>18159.000000</td>\n",
              "      <td>18159.000000</td>\n",
              "      <td>18159.000000</td>\n",
              "      <td>18159.000000</td>\n",
              "    </tr>\n",
              "    <tr>\n",
              "      <th>mean</th>\n",
              "      <td>9103.000000</td>\n",
              "      <td>214298.338606</td>\n",
              "      <td>25.122206</td>\n",
              "      <td>66.238699</td>\n",
              "      <td>71.307299</td>\n",
              "      <td>1597.809908</td>\n",
              "      <td>1.113222</td>\n",
              "      <td>2.947299</td>\n",
              "      <td>2.361308</td>\n",
              "      <td>19.546096</td>\n",
              "      <td>49.734181</td>\n",
              "      <td>45.550911</td>\n",
              "      <td>52.298144</td>\n",
              "      <td>58.686712</td>\n",
              "      <td>42.909026</td>\n",
              "      <td>55.371001</td>\n",
              "      <td>47.170824</td>\n",
              "      <td>42.863153</td>\n",
              "      <td>52.711933</td>\n",
              "      <td>58.369459</td>\n",
              "      <td>64.614076</td>\n",
              "      <td>64.726967</td>\n",
              "      <td>63.503607</td>\n",
              "      <td>61.836610</td>\n",
              "      <td>63.966573</td>\n",
              "      <td>55.460047</td>\n",
              "      <td>65.089432</td>\n",
              "      <td>63.219946</td>\n",
              "      <td>65.311967</td>\n",
              "      <td>47.109973</td>\n",
              "      <td>55.868991</td>\n",
              "      <td>46.698276</td>\n",
              "      <td>49.958478</td>\n",
              "      <td>53.400903</td>\n",
              "      <td>48.548598</td>\n",
              "      <td>58.648274</td>\n",
              "      <td>47.281623</td>\n",
              "      <td>47.697836</td>\n",
              "      <td>45.661435</td>\n",
              "      <td>16.616223</td>\n",
              "      <td>16.391596</td>\n",
              "      <td>16.232061</td>\n",
              "      <td>16.388898</td>\n",
              "      <td>16.710887</td>\n",
              "    </tr>\n",
              "    <tr>\n",
              "      <th>std</th>\n",
              "      <td>5256.052511</td>\n",
              "      <td>29965.244204</td>\n",
              "      <td>4.669943</td>\n",
              "      <td>6.908930</td>\n",
              "      <td>6.136496</td>\n",
              "      <td>272.586016</td>\n",
              "      <td>0.394031</td>\n",
              "      <td>0.660456</td>\n",
              "      <td>0.756164</td>\n",
              "      <td>15.947765</td>\n",
              "      <td>18.364524</td>\n",
              "      <td>19.525820</td>\n",
              "      <td>17.379909</td>\n",
              "      <td>14.699495</td>\n",
              "      <td>17.694408</td>\n",
              "      <td>18.910371</td>\n",
              "      <td>18.395264</td>\n",
              "      <td>17.478763</td>\n",
              "      <td>15.327870</td>\n",
              "      <td>16.686595</td>\n",
              "      <td>14.927780</td>\n",
              "      <td>14.649953</td>\n",
              "      <td>14.766049</td>\n",
              "      <td>9.010464</td>\n",
              "      <td>14.136166</td>\n",
              "      <td>17.237958</td>\n",
              "      <td>11.820044</td>\n",
              "      <td>15.894741</td>\n",
              "      <td>12.557000</td>\n",
              "      <td>19.260524</td>\n",
              "      <td>17.367967</td>\n",
              "      <td>20.696909</td>\n",
              "      <td>19.529036</td>\n",
              "      <td>14.146881</td>\n",
              "      <td>15.704053</td>\n",
              "      <td>11.436133</td>\n",
              "      <td>19.904397</td>\n",
              "      <td>21.664004</td>\n",
              "      <td>21.289135</td>\n",
              "      <td>17.695349</td>\n",
              "      <td>16.906900</td>\n",
              "      <td>16.502864</td>\n",
              "      <td>17.034669</td>\n",
              "      <td>17.955119</td>\n",
              "    </tr>\n",
              "    <tr>\n",
              "      <th>min</th>\n",
              "      <td>0.000000</td>\n",
              "      <td>16.000000</td>\n",
              "      <td>16.000000</td>\n",
              "      <td>46.000000</td>\n",
              "      <td>48.000000</td>\n",
              "      <td>731.000000</td>\n",
              "      <td>1.000000</td>\n",
              "      <td>1.000000</td>\n",
              "      <td>1.000000</td>\n",
              "      <td>1.000000</td>\n",
              "      <td>5.000000</td>\n",
              "      <td>2.000000</td>\n",
              "      <td>4.000000</td>\n",
              "      <td>7.000000</td>\n",
              "      <td>4.000000</td>\n",
              "      <td>4.000000</td>\n",
              "      <td>6.000000</td>\n",
              "      <td>3.000000</td>\n",
              "      <td>9.000000</td>\n",
              "      <td>5.000000</td>\n",
              "      <td>12.000000</td>\n",
              "      <td>12.000000</td>\n",
              "      <td>14.000000</td>\n",
              "      <td>21.000000</td>\n",
              "      <td>16.000000</td>\n",
              "      <td>2.000000</td>\n",
              "      <td>15.000000</td>\n",
              "      <td>12.000000</td>\n",
              "      <td>17.000000</td>\n",
              "      <td>3.000000</td>\n",
              "      <td>11.000000</td>\n",
              "      <td>3.000000</td>\n",
              "      <td>2.000000</td>\n",
              "      <td>10.000000</td>\n",
              "      <td>5.000000</td>\n",
              "      <td>3.000000</td>\n",
              "      <td>3.000000</td>\n",
              "      <td>2.000000</td>\n",
              "      <td>3.000000</td>\n",
              "      <td>1.000000</td>\n",
              "      <td>1.000000</td>\n",
              "      <td>1.000000</td>\n",
              "      <td>1.000000</td>\n",
              "      <td>1.000000</td>\n",
              "    </tr>\n",
              "    <tr>\n",
              "      <th>25%</th>\n",
              "      <td>4551.500000</td>\n",
              "      <td>200315.500000</td>\n",
              "      <td>21.000000</td>\n",
              "      <td>62.000000</td>\n",
              "      <td>67.000000</td>\n",
              "      <td>1457.000000</td>\n",
              "      <td>1.000000</td>\n",
              "      <td>3.000000</td>\n",
              "      <td>2.000000</td>\n",
              "      <td>8.000000</td>\n",
              "      <td>38.000000</td>\n",
              "      <td>30.000000</td>\n",
              "      <td>44.000000</td>\n",
              "      <td>54.000000</td>\n",
              "      <td>30.000000</td>\n",
              "      <td>49.000000</td>\n",
              "      <td>34.000000</td>\n",
              "      <td>31.000000</td>\n",
              "      <td>43.000000</td>\n",
              "      <td>54.000000</td>\n",
              "      <td>57.000000</td>\n",
              "      <td>57.000000</td>\n",
              "      <td>55.000000</td>\n",
              "      <td>56.000000</td>\n",
              "      <td>56.000000</td>\n",
              "      <td>45.000000</td>\n",
              "      <td>58.000000</td>\n",
              "      <td>56.000000</td>\n",
              "      <td>58.000000</td>\n",
              "      <td>33.000000</td>\n",
              "      <td>44.000000</td>\n",
              "      <td>26.000000</td>\n",
              "      <td>38.000000</td>\n",
              "      <td>44.000000</td>\n",
              "      <td>39.000000</td>\n",
              "      <td>51.000000</td>\n",
              "      <td>30.000000</td>\n",
              "      <td>27.000000</td>\n",
              "      <td>24.000000</td>\n",
              "      <td>8.000000</td>\n",
              "      <td>8.000000</td>\n",
              "      <td>8.000000</td>\n",
              "      <td>8.000000</td>\n",
              "      <td>8.000000</td>\n",
              "    </tr>\n",
              "    <tr>\n",
              "      <th>50%</th>\n",
              "      <td>9103.000000</td>\n",
              "      <td>221759.000000</td>\n",
              "      <td>25.000000</td>\n",
              "      <td>66.000000</td>\n",
              "      <td>71.000000</td>\n",
              "      <td>1635.000000</td>\n",
              "      <td>1.000000</td>\n",
              "      <td>3.000000</td>\n",
              "      <td>2.000000</td>\n",
              "      <td>17.000000</td>\n",
              "      <td>54.000000</td>\n",
              "      <td>49.000000</td>\n",
              "      <td>56.000000</td>\n",
              "      <td>62.000000</td>\n",
              "      <td>44.000000</td>\n",
              "      <td>61.000000</td>\n",
              "      <td>48.000000</td>\n",
              "      <td>41.000000</td>\n",
              "      <td>56.000000</td>\n",
              "      <td>63.000000</td>\n",
              "      <td>67.000000</td>\n",
              "      <td>67.000000</td>\n",
              "      <td>66.000000</td>\n",
              "      <td>62.000000</td>\n",
              "      <td>66.000000</td>\n",
              "      <td>59.000000</td>\n",
              "      <td>66.000000</td>\n",
              "      <td>66.000000</td>\n",
              "      <td>67.000000</td>\n",
              "      <td>51.000000</td>\n",
              "      <td>59.000000</td>\n",
              "      <td>52.000000</td>\n",
              "      <td>55.000000</td>\n",
              "      <td>55.000000</td>\n",
              "      <td>49.000000</td>\n",
              "      <td>60.000000</td>\n",
              "      <td>53.000000</td>\n",
              "      <td>55.000000</td>\n",
              "      <td>52.000000</td>\n",
              "      <td>11.000000</td>\n",
              "      <td>11.000000</td>\n",
              "      <td>11.000000</td>\n",
              "      <td>11.000000</td>\n",
              "      <td>11.000000</td>\n",
              "    </tr>\n",
              "    <tr>\n",
              "      <th>75%</th>\n",
              "      <td>13654.500000</td>\n",
              "      <td>236529.500000</td>\n",
              "      <td>28.000000</td>\n",
              "      <td>71.000000</td>\n",
              "      <td>75.000000</td>\n",
              "      <td>1787.000000</td>\n",
              "      <td>1.000000</td>\n",
              "      <td>3.000000</td>\n",
              "      <td>3.000000</td>\n",
              "      <td>26.000000</td>\n",
              "      <td>64.000000</td>\n",
              "      <td>62.000000</td>\n",
              "      <td>64.000000</td>\n",
              "      <td>68.000000</td>\n",
              "      <td>57.000000</td>\n",
              "      <td>68.000000</td>\n",
              "      <td>62.000000</td>\n",
              "      <td>57.000000</td>\n",
              "      <td>64.000000</td>\n",
              "      <td>69.000000</td>\n",
              "      <td>75.000000</td>\n",
              "      <td>75.000000</td>\n",
              "      <td>74.000000</td>\n",
              "      <td>68.000000</td>\n",
              "      <td>74.000000</td>\n",
              "      <td>68.000000</td>\n",
              "      <td>73.000000</td>\n",
              "      <td>74.000000</td>\n",
              "      <td>74.000000</td>\n",
              "      <td>62.000000</td>\n",
              "      <td>69.000000</td>\n",
              "      <td>64.000000</td>\n",
              "      <td>64.000000</td>\n",
              "      <td>64.000000</td>\n",
              "      <td>60.000000</td>\n",
              "      <td>67.000000</td>\n",
              "      <td>64.000000</td>\n",
              "      <td>66.000000</td>\n",
              "      <td>64.000000</td>\n",
              "      <td>14.000000</td>\n",
              "      <td>14.000000</td>\n",
              "      <td>14.000000</td>\n",
              "      <td>14.000000</td>\n",
              "      <td>14.000000</td>\n",
              "    </tr>\n",
              "    <tr>\n",
              "      <th>max</th>\n",
              "      <td>18206.000000</td>\n",
              "      <td>246620.000000</td>\n",
              "      <td>45.000000</td>\n",
              "      <td>94.000000</td>\n",
              "      <td>95.000000</td>\n",
              "      <td>2346.000000</td>\n",
              "      <td>5.000000</td>\n",
              "      <td>5.000000</td>\n",
              "      <td>5.000000</td>\n",
              "      <td>99.000000</td>\n",
              "      <td>93.000000</td>\n",
              "      <td>95.000000</td>\n",
              "      <td>94.000000</td>\n",
              "      <td>93.000000</td>\n",
              "      <td>90.000000</td>\n",
              "      <td>97.000000</td>\n",
              "      <td>94.000000</td>\n",
              "      <td>94.000000</td>\n",
              "      <td>93.000000</td>\n",
              "      <td>96.000000</td>\n",
              "      <td>97.000000</td>\n",
              "      <td>96.000000</td>\n",
              "      <td>96.000000</td>\n",
              "      <td>96.000000</td>\n",
              "      <td>96.000000</td>\n",
              "      <td>95.000000</td>\n",
              "      <td>95.000000</td>\n",
              "      <td>96.000000</td>\n",
              "      <td>97.000000</td>\n",
              "      <td>94.000000</td>\n",
              "      <td>95.000000</td>\n",
              "      <td>92.000000</td>\n",
              "      <td>95.000000</td>\n",
              "      <td>94.000000</td>\n",
              "      <td>92.000000</td>\n",
              "      <td>96.000000</td>\n",
              "      <td>94.000000</td>\n",
              "      <td>93.000000</td>\n",
              "      <td>91.000000</td>\n",
              "      <td>90.000000</td>\n",
              "      <td>92.000000</td>\n",
              "      <td>91.000000</td>\n",
              "      <td>90.000000</td>\n",
              "      <td>94.000000</td>\n",
              "    </tr>\n",
              "  </tbody>\n",
              "</table>\n",
              "</div>"
            ],
            "text/plain": [
              "         Unnamed: 0             ID  ...  GKPositioning    GKReflexes\n",
              "count  18207.000000   18207.000000  ...   18159.000000  18159.000000\n",
              "mean    9103.000000  214298.338606  ...      16.388898     16.710887\n",
              "std     5256.052511   29965.244204  ...      17.034669     17.955119\n",
              "min        0.000000      16.000000  ...       1.000000      1.000000\n",
              "25%     4551.500000  200315.500000  ...       8.000000      8.000000\n",
              "50%     9103.000000  221759.000000  ...      11.000000     11.000000\n",
              "75%    13654.500000  236529.500000  ...      14.000000     14.000000\n",
              "max    18206.000000  246620.000000  ...      90.000000     94.000000\n",
              "\n",
              "[8 rows x 44 columns]"
            ]
          },
          "metadata": {},
          "execution_count": 15
        }
      ]
    },
    {
      "cell_type": "markdown",
      "metadata": {
        "id": "nsdRMXMZnDTq"
      },
      "source": [
        "<h4>Find out  what type of variable you are dealing with. This will help you find the right visualization method for that variable.</p>\n"
      ]
    },
    {
      "cell_type": "code",
      "metadata": {
        "id": "nOd1XdJEnDTt"
      },
      "source": [
        ""
      ],
      "execution_count": null,
      "outputs": []
    },
    {
      "cell_type": "markdown",
      "metadata": {
        "id": "hlS_gWSWnDTv"
      },
      "source": [
        "# Visualisation Questions - 1.5 X 5 = 7.5 Marks"
      ]
    },
    {
      "cell_type": "markdown",
      "metadata": {
        "id": "ratiPWMcnDTx"
      },
      "source": [
        "### Question 1\n",
        "<h4>Fill the missing value for the continous variables with Mean(average) for proper data visualization\n",
        "<br><br>\n",
        "    Preprocess height - convert data in  format xx'xx to xx.xx Remove \"nan\" with Mode and convert the column to numerical\n",
        "<br><br>    \n",
        "    Preprocess weight - convert data in  format xxlbs to xx Remove \"nan\" with Mode and convert the column to numerical\n",
        "<h4>Do Univariate anlaysis for outliers detection for height and weight\n",
        "<br><br>\n",
        "<h4>Write the python code in the below cell to create appropriate visual to perform the above task.\n",
        "<h4> Answer in markdown cells below the visual\n",
        "<br><br>\n",
        "<ol>\n",
        "    <li>Summarise your findings from the visual</li>\n",
        "    <li>The reason for selecting the chart type you did</li>\n",
        "    <li>Mention the pre-attentive attributes used.(atleast 2)</li>\n",
        "    <li>Mention the gestalt principles used.(atleast 2)</li>\n",
        "</ol>"
      ]
    },
    {
      "cell_type": "code",
      "metadata": {
        "id": "y_HuRfLdnDT1"
      },
      "source": [
        ""
      ],
      "execution_count": null,
      "outputs": []
    },
    {
      "cell_type": "markdown",
      "metadata": {
        "id": "diRYcB0ZnDT9"
      },
      "source": [
        "### Question 2\n",
        "<h4>Do Bi-Variate anlaysis for outliers detection for height and weight \n",
        "<br><br>\n",
        "<h4>Write the python code in the below cell to create appropriate visual to perform the above task.\n",
        "<h4> Answer in markdown cells below the visual\n",
        "<br><br>\n",
        "<ol>\n",
        "    <li>Summarise your findings from the visual</li>\n",
        "    <li>The reason for selecting the chart type you did</li>\n",
        "    <li>Mention the pre-attentive attributes used.(atleast 2)</li>\n",
        "    <li>Mention the gestalt principles used.(atleast 2)</li>\n",
        "</ol>"
      ]
    },
    {
      "cell_type": "code",
      "metadata": {
        "id": "Rs2QzLvdnDT-"
      },
      "source": [
        ""
      ],
      "execution_count": null,
      "outputs": []
    },
    {
      "cell_type": "markdown",
      "metadata": {
        "id": "qQkg7ciNnDT_"
      },
      "source": [
        "### Question 3\n",
        "<h4>What kind of co-relation exists between Age and Overall\n",
        "<br><br>    \n",
        "Write the python code in the below cell to create appropriate visual to perform the above task.\n",
        "<h4> Answer in markdown cells below the visual\n",
        "<br><br>\n",
        "<ol>\n",
        "    <li>Summarise your findings from the visual</li>\n",
        "    <li>The reason for selecting the chart type you did</li>\n",
        "    <li>Mention the pre-attentive attributes used.(atleast 2)</li>\n",
        "    <li>Mention the gestalt principles used.(atleast 2)</li>\n",
        "</ol>"
      ]
    },
    {
      "cell_type": "code",
      "metadata": {
        "id": "nExKkhfZnDUB"
      },
      "source": [
        ""
      ],
      "execution_count": null,
      "outputs": []
    },
    {
      "cell_type": "markdown",
      "metadata": {
        "id": "DeuNFfRpnDUD"
      },
      "source": [
        "  ### Question 4\n",
        "<h4>What kind of relation exists between Age and (potential vs Overall). Create an appropriate visual to compare potential vs Overall with respect to age in one single visual.\n",
        "<br><br>\n",
        "Write the python code in the below cell to create appropriate visual to perform the above task.\n",
        "<h4> Answer in markdown cells below the visual\n",
        "<br><br>\n",
        "<ol>\n",
        "    <li>Summarise your findings from the visual</li>\n",
        "    <li>The reason for selecting the chart type you did</li>\n",
        "    <li>Mention the pre-attentive attributes used.(atleast 2)</li>\n",
        "    <li>Mention the gestalt principles used.(atleast 2)</li>\n",
        "</ol>"
      ]
    },
    {
      "cell_type": "code",
      "metadata": {
        "id": "U2HspEG6nDUE"
      },
      "source": [
        ""
      ],
      "execution_count": null,
      "outputs": []
    },
    {
      "cell_type": "markdown",
      "metadata": {
        "id": "lF9Sdb7ynDUG"
      },
      "source": [
        "  ### Question 5\n",
        "<h4>What kind of relation exists between Player Vision and Player Value. Create an appropriate visual to show any kind of relation that exists between Vision and Value of the player in one single visual.\n",
        "<br><br>\n",
        "Write the python code in the below cell to create appropriate visual to perform the above task.\n",
        "<h4> Answer in markdown cells below the visual\n",
        "<br><br>\n",
        "<ol>\n",
        "    <li>Summarise your findings from the visual</li>\n",
        "    <li>The reason for selecting the chart type you did</li>\n",
        "    <li>Mention the pre-attentive attributes used.(atleast 2)</li>\n",
        "    <li>Mention the gestalt principles used.(atleast 2)</li>\n",
        "</ol>"
      ]
    },
    {
      "cell_type": "markdown",
      "metadata": {
        "id": "ciXnXIuGoCKE"
      },
      "source": [
        "# Group's choice- 1.5 Marks\n",
        " \n",
        "#### Frame 1 (more) question which will help in the EDA(Exploratory Data Analysis) of the given data set and answer the same using the best visual.\n",
        " \n",
        " 1. Write the question in a markdown cell\n",
        " 2. Below the question,in a coding cell,write the python code to create the visual to answer the question  \n",
        "\n",
        "<h4> Answer in markdown cells below the visual <br><br>\n",
        "   1.Summarise your findings from the visual.<br>\n",
        "   2.The reason for selecting the chart type you did <br>\n",
        "   3.Mention the pre-attentive attributes used.(atleast 2)<br>\n",
        "   4.Mention the gestalt principles used.(atleast 2)<br>"
      ]
    },
    {
      "cell_type": "code",
      "metadata": {
        "colab": {
          "base_uri": "https://localhost:8080/"
        },
        "id": "RhzvYzb0nDUI",
        "outputId": "5827c5fe-5413-4f9a-b059-4ac60a228f03"
      },
      "source": [
        "%ls "
      ],
      "execution_count": null,
      "outputs": [
        {
          "name": "stdout",
          "output_type": "stream",
          "text": [
            "\u001b[0m\u001b[01;34msample_data\u001b[0m/\n"
          ]
        }
      ]
    },
    {
      "cell_type": "code",
      "metadata": {
        "colab": {
          "base_uri": "https://localhost:8080/"
        },
        "id": "aUp3rsXOzeQc",
        "outputId": "ceecdab5-e6e0-48b8-aea5-af6c877468bf"
      },
      "source": [
        "from google.colab import drive\n",
        "drive.mount('/content/drive')"
      ],
      "execution_count": null,
      "outputs": [
        {
          "name": "stdout",
          "output_type": "stream",
          "text": [
            "Mounted at /content/drive\n"
          ]
        }
      ]
    },
    {
      "cell_type": "markdown",
      "metadata": {
        "id": "Dy22QpOZnDUK"
      },
      "source": [
        "<h1><center> ************ Prepare File for Submission ****************</center></h1>"
      ]
    },
    {
      "cell_type": "markdown",
      "metadata": {
        "id": "5xVGhlH604_R"
      },
      "source": [
        "<h4> Follow the instructions from live session to convert the ipynb file to html file for submission.\n",
        "<br><br>\n",
        "<h4> Mount G-drive and copy the path to .ipynb file. Replace \"PATH_TO_NOTEBOOK.ibynb\" with the copied path and execute the below cells\n",
        "<br><br>\n",
        "<h4> Download the html file. Review all visuals and code written are present and upload it for evaluation"
      ]
    },
    {
      "cell_type": "code",
      "metadata": {
        "id": "m0XJBqbK0lOM"
      },
      "source": [
        "%cd \"PATH_TO_NOTEBOOK.ibynb\"\n",
        "!jupyter nbconvert --to html Assignment-1.ipynb"
      ],
      "execution_count": null,
      "outputs": []
    },
    {
      "cell_type": "code",
      "metadata": {
        "id": "gfxok5-GzzVW"
      },
      "source": [
        ""
      ],
      "execution_count": null,
      "outputs": []
    }
  ]
}